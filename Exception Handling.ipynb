{
 "cells": [
  {
   "cell_type": "markdown",
   "metadata": {},
   "source": [
    "<a id='l'></a>\n",
    "## Exception Handling\n",
    "1- Exception used to handle runtime error or program crashes and to give\n",
    "   user friendly msg that describes the error in user friendly way.<br>\n",
    "   2- The main reason of using exception handling is that it is to use when\n",
    "   program has to be execute after error.<br>\n",
    "   3- Due to exception handling program run completely and not stop when\n",
    "   error occur.<br>\n",
    "   4- Attackers will learn more than you want them to know from a traceback.\n",
    "   For example, they’ll know the name of your program file, and they’ll see \n",
    "   a part of your code that isn’t working properly. A skilled attacker can \n",
    "   sometimes use this information to determine which kind of attacks to use \n",
    "   against your code."
   ]
  },
  {
   "cell_type": "markdown",
   "metadata": {},
   "source": [
    "[Go to summary](#summary)"
   ]
  },
  {
   "cell_type": "markdown",
   "metadata": {},
   "source": [
    "<a id='l1'></a>\n",
    "### 1- zero division error"
   ]
  },
  {
   "cell_type": "code",
   "execution_count": 18,
   "metadata": {},
   "outputs": [
    {
     "ename": "ZeroDivisionError",
     "evalue": "division by zero",
     "output_type": "error",
     "traceback": [
      "\u001b[1;31m---------------------------------------------------------------------------\u001b[0m",
      "\u001b[1;31mZeroDivisionError\u001b[0m                         Traceback (most recent call last)",
      "\u001b[1;32m<ipython-input-18-e957623e1054>\u001b[0m in \u001b[0;36m<module>\u001b[1;34m\u001b[0m\n\u001b[1;32m----> 1\u001b[1;33m \u001b[0mprint\u001b[0m\u001b[1;33m(\u001b[0m\u001b[1;36m5\u001b[0m\u001b[1;33m/\u001b[0m\u001b[1;36m0\u001b[0m\u001b[1;33m)\u001b[0m \u001b[1;31m# it gives ZeroDivisionError: division by zero\u001b[0m\u001b[1;33m\u001b[0m\u001b[1;33m\u001b[0m\u001b[0m\n\u001b[0m",
      "\u001b[1;31mZeroDivisionError\u001b[0m: division by zero"
     ]
    }
   ],
   "source": [
    "\n",
    "print(5/0) # it gives ZeroDivisionError: division by zero"
   ]
  },
  {
   "cell_type": "code",
   "execution_count": 19,
   "metadata": {},
   "outputs": [
    {
     "name": "stdout",
     "output_type": "stream",
     "text": [
      "Division by zero gives infinity\n"
     ]
    }
   ],
   "source": [
    "# To handle above error\n",
    "try:\n",
    "    print(5/0)\n",
    "except ZeroDivisionError:\n",
    "    print(\"Division by zero gives infinity\")"
   ]
  },
  {
   "cell_type": "code",
   "execution_count": 20,
   "metadata": {},
   "outputs": [
    {
     "name": "stdout",
     "output_type": "stream",
     "text": [
      "Enter 1st no: 5\n",
      "Enter 2nd no: 10\n",
      "0.5\n"
     ]
    }
   ],
   "source": [
    "# Division Calculator in more practical way \n",
    "n1 = int(input(\"Enter 1st no: \"))\n",
    "n2 = int(input(\"Enter 2nd no: \"))\n",
    "try:\n",
    "    print(n1/n2)\n",
    "except ZeroDivisionError:\n",
    "    print(str(n1)+\"/\"+str(n2)+\" = infinity\")\n"
   ]
  },
  {
   "cell_type": "markdown",
   "metadata": {},
   "source": [
    "[Go to summary](#summary)"
   ]
  },
  {
   "cell_type": "markdown",
   "metadata": {},
   "source": [
    "<a id='l2'></a>\n",
    "### 2- file not found error"
   ]
  },
  {
   "cell_type": "code",
   "execution_count": 21,
   "metadata": {},
   "outputs": [
    {
     "ename": "FileNotFoundError",
     "evalue": "[Errno 2] No such file or directory: 'abc.txt'",
     "output_type": "error",
     "traceback": [
      "\u001b[1;31m---------------------------------------------------------------------------\u001b[0m",
      "\u001b[1;31mFileNotFoundError\u001b[0m                         Traceback (most recent call last)",
      "\u001b[1;32m<ipython-input-21-ae2b1da1f8ec>\u001b[0m in \u001b[0;36m<module>\u001b[1;34m\u001b[0m\n\u001b[1;32m----> 1\u001b[1;33m \u001b[1;32mwith\u001b[0m \u001b[0mopen\u001b[0m\u001b[1;33m(\u001b[0m\u001b[1;34m\"abc.txt\"\u001b[0m\u001b[1;33m)\u001b[0m \u001b[1;32mas\u001b[0m \u001b[0mfo\u001b[0m\u001b[1;33m:\u001b[0m \u001b[1;31m# It will give FileNotFoundError: [Errno 2] No such file or directory: 'abc.txt'\u001b[0m\u001b[1;33m\u001b[0m\u001b[1;33m\u001b[0m\u001b[0m\n\u001b[0m\u001b[0;32m      2\u001b[0m \u001b[1;33m\u001b[0m\u001b[0m\n\u001b[0;32m      3\u001b[0m     \u001b[0mcontent\u001b[0m \u001b[1;33m=\u001b[0m \u001b[0mfo\u001b[0m\u001b[1;33m.\u001b[0m\u001b[0mread\u001b[0m\u001b[1;33m(\u001b[0m\u001b[1;33m)\u001b[0m\u001b[1;33m\u001b[0m\u001b[1;33m\u001b[0m\u001b[0m\n\u001b[0;32m      4\u001b[0m     \u001b[0mprint\u001b[0m\u001b[1;33m(\u001b[0m\u001b[0mcontent\u001b[0m\u001b[1;33m)\u001b[0m\u001b[1;33m\u001b[0m\u001b[1;33m\u001b[0m\u001b[0m\n",
      "\u001b[1;31mFileNotFoundError\u001b[0m: [Errno 2] No such file or directory: 'abc.txt'"
     ]
    }
   ],
   "source": [
    "\n",
    "with open(\"abc.txt\") as fo: # It will give FileNotFoundError: [Errno 2] No such file or directory: 'abc.txt'\n",
    "\n",
    "    content = fo.read()\n",
    "    print(content)"
   ]
  },
  {
   "cell_type": "code",
   "execution_count": 22,
   "metadata": {},
   "outputs": [
    {
     "name": "stdout",
     "output_type": "stream",
     "text": [
      "abc.txt is not in directory\n"
     ]
    }
   ],
   "source": [
    "# Handling FileNotFoundError\n",
    "try:\n",
    "    with open(\"abc.txt\") as fo:\n",
    "        content = fo.read()\n",
    "        print(content)\n",
    "except FileNotFoundError:\n",
    "    print(\"abc.txt is not in directory\")"
   ]
  },
  {
   "cell_type": "markdown",
   "metadata": {},
   "source": [
    "[Go to summary](#summary)"
   ]
  },
  {
   "cell_type": "markdown",
   "metadata": {},
   "source": [
    "<a id='l3'></a>\n",
    "### 3- using else block with try except block <br>\n",
    "Any code that depends on the try block executing successfully goes in the else block. Sometimes you’ll have additional code that should run only if the try block was successful; this code goes in the else block. The except block tells Python what to do in case a certain exception arises when it tries to run the code in the try statement."
   ]
  },
  {
   "cell_type": "code",
   "execution_count": 23,
   "metadata": {},
   "outputs": [
    {
     "name": "stdout",
     "output_type": "stream",
     "text": [
      "Enter 1st no: 10\n",
      "Enter 2nd no: 5\n",
      "2.0\n"
     ]
    }
   ],
   "source": [
    "\n",
    "n1 = int(input(\"Enter 1st no: \"))\n",
    "n2 = int(input(\"Enter 2nd no: \"))\n",
    "try:\n",
    "    ans = n1/n2\n",
    "except ZeroDivisionError:\n",
    "    print(str(n1)+\"/\"+str(n2)+\" = infinity\")\n",
    "else:\n",
    "    print(ans) # agar code try block me chal gaya to else par bhi chal jae ga.\n",
    "               # else block try block par dependent h\n"
   ]
  },
  {
   "cell_type": "markdown",
   "metadata": {},
   "source": [
    "[Go to summary](#summary)"
   ]
  },
  {
   "cell_type": "markdown",
   "metadata": {},
   "source": [
    "<a id='l4'></a>\n",
    "### 4- pass key word in exception block\n",
    "\n",
    "We report error when we sure that it is helpful to user but when there is\n",
    "   some conflict about error reporting that it actually help the user or make\n",
    "   the situation complex for him so we do not report error (just use pass statement\n",
    "   in exception block).\n",
    "   "
   ]
  },
  {
   "cell_type": "code",
   "execution_count": 24,
   "metadata": {},
   "outputs": [
    {
     "name": "stdout",
     "output_type": "stream",
     "text": [
      "Enter 1st no: 6\n",
      "Enter 2nd no: 3\n",
      "2.0\n"
     ]
    }
   ],
   "source": [
    "\n",
    "n1 = int(input(\"Enter 1st no: \"))\n",
    "n2 = int(input(\"Enter 2nd no: \"))\n",
    "try:\n",
    "    ans = n1/n2\n",
    "except ZeroDivisionError:\n",
    "    pass # the pass stetement do nothing when exception occur and execute the pgm silently\n",
    "\n",
    "else:\n",
    "    print(ans)"
   ]
  },
  {
   "cell_type": "code",
   "execution_count": 25,
   "metadata": {},
   "outputs": [
    {
     "name": "stdout",
     "output_type": "stream",
     "text": [
      "Enter 1st no: 9\n",
      "Enter 2nd no: 3\n",
      "type\n"
     ]
    }
   ],
   "source": [
    "try:\n",
    "    n1 = int(input(\"Enter 1st no: \"))\n",
    "    n2 = int(input(\"Enter 2nd no: \"))\n",
    "except TypeError:\n",
    "    pass\n",
    "else:\n",
    "    print(\"type\")"
   ]
  },
  {
   "cell_type": "markdown",
   "metadata": {},
   "source": [
    "<b> At this point we've seen the basics of exception handling in python. There are more function of this topic exist, but at this time these are enough to understand the topic. <b>"
   ]
  },
  {
   "cell_type": "markdown",
   "metadata": {},
   "source": [
    "<a id='summary'></a>\n",
    "# Summary"
   ]
  },
  {
   "cell_type": "markdown",
   "metadata": {},
   "source": [
    "[Exception Handling (Definition)](#l)"
   ]
  },
  {
   "cell_type": "markdown",
   "metadata": {},
   "source": [
    "[1- zero division error](#l1)<br>\n",
    "[2- file not found error](#l2)<br>\n",
    "[3- using else block with try except block](#l3)<br>\n",
    "[4- pass key word in exception block](#l4)"
   ]
  },
  {
   "cell_type": "code",
   "execution_count": null,
   "metadata": {},
   "outputs": [],
   "source": []
  }
 ],
 "metadata": {
  "kernelspec": {
   "display_name": "Python 3",
   "language": "python",
   "name": "python3"
  },
  "language_info": {
   "codemirror_mode": {
    "name": "ipython",
    "version": 3
   },
   "file_extension": ".py",
   "mimetype": "text/x-python",
   "name": "python",
   "nbconvert_exporter": "python",
   "pygments_lexer": "ipython3",
   "version": "3.7.3"
  }
 },
 "nbformat": 4,
 "nbformat_minor": 2
}
